{
 "cells": [
  {
   "cell_type": "code",
   "execution_count": 1,
   "metadata": {
    "collapsed": true
   },
   "outputs": [],
   "source": [
    "import numpy as np\n",
    "import torch as th\n",
    "from torch.autograd import Variable\n",
    "from utilities import onehot_sequence"
   ]
  },
  {
   "cell_type": "code",
   "execution_count": 2,
   "metadata": {
    "collapsed": false
   },
   "outputs": [],
   "source": [
    "N, T, C = 64, 1, 10\n",
    "data = tuple(np.random.choice(np.arange(C), (1, T), replace=False) for _ in range(N))\n",
    "data = np.concatenate(data, 0)\n",
    "data = th.from_numpy(data)\n",
    "onehot_data = onehot_sequence(data, C, False)\n",
    "onehot_data = Variable(onehot_data)"
   ]
  },
  {
   "cell_type": "code",
   "execution_count": 3,
   "metadata": {
    "collapsed": false
   },
   "outputs": [
    {
     "data": {
      "text/plain": [
       "Variable containing:\n",
       " 1.4612\n",
       "[torch.FloatTensor of size 1]"
      ]
     },
     "execution_count": 3,
     "metadata": {},
     "output_type": "execute_result"
    }
   ],
   "source": [
    "criterion = 'semi_cross_entropy'\n",
    "# criterion = 'alternative_semi_cross_entropy'\n",
    "# criterion = 'kl_loss'\n",
    "# criterion = 'rl_loss'\n",
    "criterion = getattr(__import__('criterions'), criterion)()\n",
    "criterion(onehot_data, onehot_data)"
   ]
  }
 ],
 "metadata": {
  "kernelspec": {
   "display_name": "Python [default]",
   "language": "python",
   "name": "python2"
  },
  "language_info": {
   "codemirror_mode": {
    "name": "ipython",
    "version": 2
   },
   "file_extension": ".py",
   "mimetype": "text/x-python",
   "name": "python",
   "nbconvert_exporter": "python",
   "pygments_lexer": "ipython2",
   "version": "2.7.12"
  }
 },
 "nbformat": 4,
 "nbformat_minor": 1
}
