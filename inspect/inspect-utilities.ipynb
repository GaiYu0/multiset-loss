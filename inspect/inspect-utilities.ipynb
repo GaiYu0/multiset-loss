{
 "cells": [
  {
   "cell_type": "code",
   "execution_count": 1,
   "metadata": {
    "collapsed": true
   },
   "outputs": [],
   "source": [
    "import torch as th"
   ]
  },
  {
   "cell_type": "code",
   "execution_count": 2,
   "metadata": {
    "collapsed": false
   },
   "outputs": [
    {
     "data": {
      "text/plain": [
       "\n",
       "(0 ,.,.) = \n",
       "  1  0  0\n",
       "  0  1  0\n",
       "  0  0  1\n",
       "\n",
       "(1 ,.,.) = \n",
       "  0  0  1\n",
       "  0  1  0\n",
       "  1  0  0\n",
       "[torch.FloatTensor of size 2x3x3]"
      ]
     },
     "execution_count": 2,
     "metadata": {},
     "output_type": "execute_result"
    }
   ],
   "source": [
    "from utilities import onehot_sequence\n",
    "labels = th.Tensor([[0, 1, 2], [2, 1, 0]]).long()\n",
    "onehot_sequence(labels, 3, False)"
   ]
  }
 ],
 "metadata": {
  "kernelspec": {
   "display_name": "Python [default]",
   "language": "python",
   "name": "python2"
  },
  "language_info": {
   "codemirror_mode": {
    "name": "ipython",
    "version": 2
   },
   "file_extension": ".py",
   "mimetype": "text/x-python",
   "name": "python",
   "nbconvert_exporter": "python",
   "pygments_lexer": "ipython2",
   "version": "2.7.12"
  }
 },
 "nbformat": 4,
 "nbformat_minor": 1
}
