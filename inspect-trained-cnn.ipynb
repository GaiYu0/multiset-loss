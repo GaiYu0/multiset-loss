{
 "cells": [
  {
   "cell_type": "code",
   "execution_count": 1,
   "metadata": {
    "collapsed": false
   },
   "outputs": [],
   "source": [
    "from __future__ import division\n",
    "import cPickle as pickle\n",
    "import gzip\n",
    "import torch as th\n",
    "from torch.autograd import Variable\n",
    "from torch.utils.data import DataLoader, TensorDataset\n",
    "from network import CNN"
   ]
  },
  {
   "cell_type": "code",
   "execution_count": 2,
   "metadata": {
    "collapsed": false
   },
   "outputs": [],
   "source": [
    "partitions = ('training', 'validation', 'test')\n",
    "data = pickle.load(gzip.open('mnist.pkl.gz'))\n",
    "data = dict(zip(partitions, data))"
   ]
  },
  {
   "cell_type": "code",
   "execution_count": 3,
   "metadata": {
    "collapsed": false
   },
   "outputs": [
    {
     "data": {
      "text/plain": [
       "CNN (\n",
       "  (_conv0): Conv2d(1, 6, kernel_size=(5, 5), stride=(1, 1), padding=(2, 2))\n",
       "  (_conv1): Conv2d(6, 16, kernel_size=(5, 5), stride=(1, 1), padding=(2, 2))\n",
       "  (_linear0): Linear (784 -> 84)\n",
       "  (_linear1): Linear (84 -> 10)\n",
       ")"
      ]
     },
     "execution_count": 3,
     "metadata": {},
     "output_type": "execute_result"
    }
   ],
   "source": [
    "cnn = CNN()\n",
    "n_digits = 9\n",
    "path = 'trained-cnn-%d' % n_digits\n",
    "state_dict = th.load(path)\n",
    "cnn.load_state_dict(state_dict)\n",
    "cnn.cuda()"
   ]
  },
  {
   "cell_type": "code",
   "execution_count": 4,
   "metadata": {
    "collapsed": false
   },
   "outputs": [],
   "source": [
    "batch_size = 1024\n",
    "data_loaders = {}\n",
    "for key, value in data.items():\n",
    "    value = map(th.from_numpy, value)\n",
    "    dataset = TensorDataset(*value)\n",
    "    data_loaders[key] = DataLoader(dataset, batch_size)"
   ]
  },
  {
   "cell_type": "code",
   "execution_count": 5,
   "metadata": {
    "collapsed": true
   },
   "outputs": [],
   "source": [
    "def n_matches(p, labels):\n",
    "    _, p = th.max(p, 1)\n",
    "    n = th.sum(p == labels)\n",
    "    n = n.data[0]\n",
    "    return n"
   ]
  },
  {
   "cell_type": "code",
   "execution_count": 6,
   "metadata": {
    "collapsed": false
   },
   "outputs": [
    {
     "name": "stdout",
     "output_type": "stream",
     "text": [
      "test 0.113500\n",
      "training 0.113560\n",
      "validation 0.106400\n"
     ]
    }
   ],
   "source": [
    "for partition, data_loader in data_loaders.items():\n",
    "    ns, nm = 0, 0\n",
    "    for batch in data_loader:\n",
    "        data, labels = batch\n",
    "        data = data.view(-1, 1, 28, 28)\n",
    "        data, labels = Variable(data.cuda()), Variable(labels.cuda())\n",
    "        data = cnn(data)\n",
    "        ns += data.size()[0]\n",
    "        nm += n_matches(data, labels)\n",
    "    ratio = nm / ns\n",
    "    print '%s %3f' % (partition, ratio)"
   ]
  }
 ],
 "metadata": {
  "kernelspec": {
   "display_name": "Python [default]",
   "language": "python",
   "name": "python2"
  },
  "language_info": {
   "codemirror_mode": {
    "name": "ipython",
    "version": 2
   },
   "file_extension": ".py",
   "mimetype": "text/x-python",
   "name": "python",
   "nbconvert_exporter": "python",
   "pygments_lexer": "ipython2",
   "version": "2.7.12"
  }
 },
 "nbformat": 4,
 "nbformat_minor": 1
}
